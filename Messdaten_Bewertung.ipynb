{
 "cells": [
  {
   "cell_type": "markdown",
   "metadata": {},
   "source": [
    "# Overview \n",
    "\n",
    "In this tutorial, we'll be working with time series of measuring data from a machine \n",
    "<br>\n",
    " <font color='red'>.... data description goes here....</font>\n",
    "\n",
    "We will explore how have varied over time, using pandas time series tools to classify into and answer question such as \n",
    "<br>\n",
    " <font color='red'>... what we want to predict goes here.....</font>\n",
    "\n",
    "This tutorial is divided into 5 parts; which are:\n",
    "\n",
    "1. Importing necessary modules\n",
    "2. Load data \n",
    "3. Data labeling\n",
    "4. Data visualization and exploration\n",
    "4. Model development\n",
    "5. Evaluation\n"
   ]
  },
  {
   "cell_type": "markdown",
   "metadata": {},
   "source": [
    "## Import modules\n",
    "\n",
    "First, we will get some necessary modules for visualization and reading and output files."
   ]
  },
  {
   "cell_type": "code",
   "execution_count": 1,
   "metadata": {
    "pycharm": {
     "is_executing": false
    }
   },
   "outputs": [],
   "source": [
    "import pandas as pd \n",
    "\n",
    "import numpy as np \n",
    "\n",
    "import seaborn as sns \n",
    "\n",
    "sns.set() \n",
    "\n",
    "flatui = [\"#4e67c8\", \"#f14124\", \"#5dceaf\", \"#34495e\", \"#a7ea52\", \"#5eccf3\", \"#ff8021\", \"#b4dcfa\"] \n",
    "\n",
    "sns.set_palette(sns.color_palette(flatui)) \n",
    "\n",
    "sns.set_context('talk', font_scale=1) \n",
    "\n",
    "\n",
    "import matplotlib.pyplot as plt \n",
    "\n",
    "plt.rcParams['figure.figsize'] = [15,5] \n",
    "\n",
    "import os, glob \n",
    "\n",
    "import re \n",
    "\n",
    "import csv \n",
    "\n",
    "import pickle as pkl \n",
    "\n",
    "from IPython.display import display, HTML \n"
   ]
  },
  {
   "cell_type": "markdown",
   "metadata": {},
   "source": [
    "## Load data\n",
    "\n",
    "As mentioned earlier, the dataset used in this tutorial is taken from \n",
    "<br>\n",
    " <font color='red'>.... data description goes here....</font>\n",
    "\n",
    "We will create a DataFrame, which is a data structure in pandas that contains two-dimensional data and its corresponding labels. \n",
    "In pandas, we can do this in one line by passing the data from a pickle file, using the pandas function read_pickle(). "
   ]
  },
  {
   "cell_type": "code",
   "execution_count": 2,
   "metadata": {
    "pycharm": {
     "is_executing": false
    }
   },
   "outputs": [],
   "source": [
    "# Read the data from the pickle file and store it in a Dataframe in pandas\n",
    "\n",
    "data = pd.read_pickle(\"Versuch_G3_1_AP_QS_geschnitten_mit_Messwerten.pkl\")"
   ]
  },
  {
   "cell_type": "markdown",
   "metadata": {},
   "source": [
    "Next, we will have a look at the important features of the dataset such as feature names and the data type of the features by simply executing this command"
   ]
  },
  {
   "cell_type": "code",
   "execution_count": 3,
   "metadata": {
    "pycharm": {
     "is_executing": false
    },
    "scrolled": true
   },
   "outputs": [
    {
     "name": "stdout",
     "output_type": "stream",
     "text": [
      "Schreiben bei Prog läuft NC-Programm     object\n",
      "Antriebsmoment x-Achse                  float64\n",
      "Antriebsmoment y-Achse                  float64\n",
      "Antriebsmoment Spindel                  float64\n",
      "aktuelle Spindeldrehzahl                float64\n",
      "Strom x-Achse                           float64\n",
      "Strom y-Achse                           float64\n",
      "Strom z-Achse                           float64\n",
      "Strom Spindel                           float64\n",
      "Achsposition x-Achse                    float64\n",
      "Achsposition y-Achse                    float64\n",
      "Achsposition z-Achse                    float64\n",
      "Bohrung                                 float64\n",
      "Kraft                                   float64\n",
      "mittl_DM                                float64\n",
      "mittl_KF                                float64\n",
      "xy_Verlauf                              float64\n",
      "dtype: object\n"
     ]
    }
   ],
   "source": [
    "# check out the name and data types of each feature\n",
    "print(data.dtypes)"
   ]
  },
  {
   "cell_type": "markdown",
   "metadata": {},
   "source": [
    "To get a high-level overview of the dataset, we use data.head() function to get the values from the first 5 rows of our dataset"
   ]
  },
  {
   "cell_type": "code",
   "execution_count": 4,
   "metadata": {
    "pycharm": {
     "is_executing": false
    },
    "scrolled": true
   },
   "outputs": [
    {
     "data": {
      "text/html": [
       "<div>\n",
       "<style scoped>\n",
       "    .dataframe tbody tr th:only-of-type {\n",
       "        vertical-align: middle;\n",
       "    }\n",
       "\n",
       "    .dataframe tbody tr th {\n",
       "        vertical-align: top;\n",
       "    }\n",
       "\n",
       "    .dataframe thead th {\n",
       "        text-align: right;\n",
       "    }\n",
       "</style>\n",
       "<table border=\"1\" class=\"dataframe\">\n",
       "  <thead>\n",
       "    <tr style=\"text-align: right;\">\n",
       "      <th></th>\n",
       "      <th>Schreiben bei Prog läuft NC-Programm</th>\n",
       "      <th>Antriebsmoment x-Achse</th>\n",
       "      <th>Antriebsmoment y-Achse</th>\n",
       "      <th>Antriebsmoment Spindel</th>\n",
       "      <th>aktuelle Spindeldrehzahl</th>\n",
       "      <th>Strom x-Achse</th>\n",
       "      <th>Strom y-Achse</th>\n",
       "      <th>Strom z-Achse</th>\n",
       "      <th>Strom Spindel</th>\n",
       "      <th>Achsposition x-Achse</th>\n",
       "      <th>Achsposition y-Achse</th>\n",
       "      <th>Achsposition z-Achse</th>\n",
       "      <th>Bohrung</th>\n",
       "      <th>Kraft</th>\n",
       "      <th>mittl_DM</th>\n",
       "      <th>mittl_KF</th>\n",
       "      <th>xy_Verlauf</th>\n",
       "    </tr>\n",
       "    <tr>\n",
       "      <th>index</th>\n",
       "      <th></th>\n",
       "      <th></th>\n",
       "      <th></th>\n",
       "      <th></th>\n",
       "      <th></th>\n",
       "      <th></th>\n",
       "      <th></th>\n",
       "      <th></th>\n",
       "      <th></th>\n",
       "      <th></th>\n",
       "      <th></th>\n",
       "      <th></th>\n",
       "      <th></th>\n",
       "      <th></th>\n",
       "      <th></th>\n",
       "      <th></th>\n",
       "      <th></th>\n",
       "    </tr>\n",
       "  </thead>\n",
       "  <tbody>\n",
       "    <tr>\n",
       "      <th>2018-05-08 13:51:10.026</th>\n",
       "      <td>N160 G1 F=vf Z=-Bohrtiefe</td>\n",
       "      <td>0.516</td>\n",
       "      <td>0.838</td>\n",
       "      <td>-1.648</td>\n",
       "      <td>7488.727570</td>\n",
       "      <td>0.24472</td>\n",
       "      <td>0.392090</td>\n",
       "      <td>-5.184448</td>\n",
       "      <td>-2.152344</td>\n",
       "      <td>235.953</td>\n",
       "      <td>471.40035</td>\n",
       "      <td>149.73803</td>\n",
       "      <td>946.0</td>\n",
       "      <td>1616.0</td>\n",
       "      <td>6.7558</td>\n",
       "      <td>0.0284</td>\n",
       "      <td>0.02</td>\n",
       "    </tr>\n",
       "    <tr>\n",
       "      <th>2018-05-08 13:51:10.041</th>\n",
       "      <td>N160 G1 F=vf Z=-Bohrtiefe</td>\n",
       "      <td>0.516</td>\n",
       "      <td>0.815</td>\n",
       "      <td>-1.636</td>\n",
       "      <td>7488.842010</td>\n",
       "      <td>0.24472</td>\n",
       "      <td>0.392090</td>\n",
       "      <td>-5.214661</td>\n",
       "      <td>-2.124023</td>\n",
       "      <td>235.953</td>\n",
       "      <td>471.40035</td>\n",
       "      <td>149.27865</td>\n",
       "      <td>946.0</td>\n",
       "      <td>1616.0</td>\n",
       "      <td>6.7558</td>\n",
       "      <td>0.0284</td>\n",
       "      <td>0.02</td>\n",
       "    </tr>\n",
       "    <tr>\n",
       "      <th>2018-05-08 13:51:10.057</th>\n",
       "      <td>N160 G1 F=vf Z=-Bohrtiefe</td>\n",
       "      <td>0.516</td>\n",
       "      <td>0.815</td>\n",
       "      <td>-1.623</td>\n",
       "      <td>7489.414215</td>\n",
       "      <td>0.24472</td>\n",
       "      <td>0.408203</td>\n",
       "      <td>-5.320404</td>\n",
       "      <td>-2.124023</td>\n",
       "      <td>235.953</td>\n",
       "      <td>471.40035</td>\n",
       "      <td>148.81926</td>\n",
       "      <td>946.0</td>\n",
       "      <td>1616.0</td>\n",
       "      <td>6.7558</td>\n",
       "      <td>0.0284</td>\n",
       "      <td>0.02</td>\n",
       "    </tr>\n",
       "    <tr>\n",
       "      <th>2018-05-08 13:51:10.072</th>\n",
       "      <td>N160 G1 F=vf Z=-Bohrtiefe</td>\n",
       "      <td>0.516</td>\n",
       "      <td>0.838</td>\n",
       "      <td>-1.474</td>\n",
       "      <td>7491.245270</td>\n",
       "      <td>0.24472</td>\n",
       "      <td>0.397461</td>\n",
       "      <td>-5.287170</td>\n",
       "      <td>-1.989502</td>\n",
       "      <td>235.953</td>\n",
       "      <td>471.40035</td>\n",
       "      <td>148.47472</td>\n",
       "      <td>946.0</td>\n",
       "      <td>1616.0</td>\n",
       "      <td>6.7558</td>\n",
       "      <td>0.0284</td>\n",
       "      <td>0.02</td>\n",
       "    </tr>\n",
       "    <tr>\n",
       "      <th>2018-05-08 13:51:10.088</th>\n",
       "      <td>N160 G1 F=vf Z=-Bohrtiefe</td>\n",
       "      <td>0.516</td>\n",
       "      <td>0.849</td>\n",
       "      <td>-1.437</td>\n",
       "      <td>7491.073608</td>\n",
       "      <td>0.24472</td>\n",
       "      <td>0.402832</td>\n",
       "      <td>-5.320404</td>\n",
       "      <td>-1.954102</td>\n",
       "      <td>235.953</td>\n",
       "      <td>471.40035</td>\n",
       "      <td>148.01533</td>\n",
       "      <td>946.0</td>\n",
       "      <td>1616.0</td>\n",
       "      <td>6.7558</td>\n",
       "      <td>0.0284</td>\n",
       "      <td>0.02</td>\n",
       "    </tr>\n",
       "  </tbody>\n",
       "</table>\n",
       "</div>"
      ],
      "text/plain": [
       "                        Schreiben bei Prog läuft NC-Programm  \\\n",
       "index                                                          \n",
       "2018-05-08 13:51:10.026            N160 G1 F=vf Z=-Bohrtiefe   \n",
       "2018-05-08 13:51:10.041            N160 G1 F=vf Z=-Bohrtiefe   \n",
       "2018-05-08 13:51:10.057            N160 G1 F=vf Z=-Bohrtiefe   \n",
       "2018-05-08 13:51:10.072            N160 G1 F=vf Z=-Bohrtiefe   \n",
       "2018-05-08 13:51:10.088            N160 G1 F=vf Z=-Bohrtiefe   \n",
       "\n",
       "                         Antriebsmoment x-Achse  Antriebsmoment y-Achse  \\\n",
       "index                                                                     \n",
       "2018-05-08 13:51:10.026                   0.516                   0.838   \n",
       "2018-05-08 13:51:10.041                   0.516                   0.815   \n",
       "2018-05-08 13:51:10.057                   0.516                   0.815   \n",
       "2018-05-08 13:51:10.072                   0.516                   0.838   \n",
       "2018-05-08 13:51:10.088                   0.516                   0.849   \n",
       "\n",
       "                         Antriebsmoment Spindel  aktuelle Spindeldrehzahl  \\\n",
       "index                                                                       \n",
       "2018-05-08 13:51:10.026                  -1.648               7488.727570   \n",
       "2018-05-08 13:51:10.041                  -1.636               7488.842010   \n",
       "2018-05-08 13:51:10.057                  -1.623               7489.414215   \n",
       "2018-05-08 13:51:10.072                  -1.474               7491.245270   \n",
       "2018-05-08 13:51:10.088                  -1.437               7491.073608   \n",
       "\n",
       "                         Strom x-Achse  Strom y-Achse  Strom z-Achse  \\\n",
       "index                                                                  \n",
       "2018-05-08 13:51:10.026        0.24472       0.392090      -5.184448   \n",
       "2018-05-08 13:51:10.041        0.24472       0.392090      -5.214661   \n",
       "2018-05-08 13:51:10.057        0.24472       0.408203      -5.320404   \n",
       "2018-05-08 13:51:10.072        0.24472       0.397461      -5.287170   \n",
       "2018-05-08 13:51:10.088        0.24472       0.402832      -5.320404   \n",
       "\n",
       "                         Strom Spindel  Achsposition x-Achse  \\\n",
       "index                                                          \n",
       "2018-05-08 13:51:10.026      -2.152344               235.953   \n",
       "2018-05-08 13:51:10.041      -2.124023               235.953   \n",
       "2018-05-08 13:51:10.057      -2.124023               235.953   \n",
       "2018-05-08 13:51:10.072      -1.989502               235.953   \n",
       "2018-05-08 13:51:10.088      -1.954102               235.953   \n",
       "\n",
       "                         Achsposition y-Achse  Achsposition z-Achse  Bohrung  \\\n",
       "index                                                                          \n",
       "2018-05-08 13:51:10.026             471.40035             149.73803    946.0   \n",
       "2018-05-08 13:51:10.041             471.40035             149.27865    946.0   \n",
       "2018-05-08 13:51:10.057             471.40035             148.81926    946.0   \n",
       "2018-05-08 13:51:10.072             471.40035             148.47472    946.0   \n",
       "2018-05-08 13:51:10.088             471.40035             148.01533    946.0   \n",
       "\n",
       "                          Kraft  mittl_DM  mittl_KF  xy_Verlauf  \n",
       "index                                                            \n",
       "2018-05-08 13:51:10.026  1616.0    6.7558    0.0284        0.02  \n",
       "2018-05-08 13:51:10.041  1616.0    6.7558    0.0284        0.02  \n",
       "2018-05-08 13:51:10.057  1616.0    6.7558    0.0284        0.02  \n",
       "2018-05-08 13:51:10.072  1616.0    6.7558    0.0284        0.02  \n",
       "2018-05-08 13:51:10.088  1616.0    6.7558    0.0284        0.02  "
      ]
     },
     "execution_count": 4,
     "metadata": {},
     "output_type": "execute_result"
    }
   ],
   "source": [
    "# Display first 5 observations\n",
    "data.head()"
   ]
  },
  {
   "cell_type": "markdown",
   "metadata": {},
   "source": [
    "We can see that our dataset index has the datatype datetime. In pandas, a basic kind of series object is a Series indexed by timestamps, which is often represented external to pandas as Python strings or datetime objects"
   ]
  },
  {
   "cell_type": "code",
   "execution_count": 5,
   "metadata": {
    "pycharm": {
     "is_executing": false
    }
   },
   "outputs": [
    {
     "name": "stdout",
     "output_type": "stream",
     "text": [
      "<class 'pandas.core.indexes.datetimes.DatetimeIndex'>\n"
     ]
    }
   ],
   "source": [
    "print(type(data.index))"
   ]
  },
  {
   "cell_type": "code",
   "execution_count": 6,
   "metadata": {
    "pycharm": {
     "is_executing": false
    }
   },
   "outputs": [
    {
     "name": "stdout",
     "output_type": "stream",
     "text": [
      "<class 'pandas.core.frame.DataFrame'>\n",
      "DatetimeIndex: 55394 entries, 2018-05-08 13:51:10.026000 to 2018-05-08 14:40:20.632000\n",
      "Data columns (total 17 columns):\n",
      " #   Column                                Non-Null Count  Dtype  \n",
      "---  ------                                --------------  -----  \n",
      " 0   Schreiben bei Prog läuft NC-Programm  55394 non-null  object \n",
      " 1   Antriebsmoment x-Achse                55394 non-null  float64\n",
      " 2   Antriebsmoment y-Achse                55394 non-null  float64\n",
      " 3   Antriebsmoment Spindel                55394 non-null  float64\n",
      " 4   aktuelle Spindeldrehzahl              55394 non-null  float64\n",
      " 5   Strom x-Achse                         55394 non-null  float64\n",
      " 6   Strom y-Achse                         55394 non-null  float64\n",
      " 7   Strom z-Achse                         55394 non-null  float64\n",
      " 8   Strom Spindel                         55394 non-null  float64\n",
      " 9   Achsposition x-Achse                  55394 non-null  float64\n",
      " 10  Achsposition y-Achse                  55394 non-null  float64\n",
      " 11  Achsposition z-Achse                  55394 non-null  float64\n",
      " 12  Bohrung                               55342 non-null  float64\n",
      " 13  Kraft                                 706 non-null    float64\n",
      " 14  mittl_DM                              40116 non-null  float64\n",
      " 15  mittl_KF                              40116 non-null  float64\n",
      " 16  xy_Verlauf                            40116 non-null  float64\n",
      "dtypes: float64(16), object(1)\n",
      "memory usage: 7.6+ MB\n"
     ]
    }
   ],
   "source": [
    "data.info()"
   ]
  },
  {
   "cell_type": "markdown",
   "metadata": {},
   "source": [
    "## Data labeling\n"
   ]
  },
  {
   "cell_type": "markdown",
   "metadata": {},
   "source": [
    "As we can see, there is no information about the state of the tool state available in our dataset. However, we can determine the tool state based on the value of DM and KF using a threshold value. \n",
    "<br> \n",
    "<font color='red'>.... Explaination of the choosen rule goes here ....</font>\n",
    "<br>\n",
    "<font color='red'>.... DM is a metric to estimate the .... </font>\n",
    "<br>\n",
    "<font color='red'>.... KF is a metric to estimate the .... </font>\n",
    "\n",
    "The values lower than this threshold and the value higher than this threshold will be labeled correspondingly as \"NOK\"/ not okay and \"OK\".\n",
    "\n",
    "Before getting into labeling data, we might want to see basic statistics of DM and KF values"
   ]
  },
  {
   "cell_type": "code",
   "execution_count": 7,
   "metadata": {
    "pycharm": {
     "is_executing": false
    }
   },
   "outputs": [
    {
     "name": "stdout",
     "output_type": "stream",
     "text": [
      "Statistics: \n",
      "DM\n",
      "6.739367077973877\n",
      "0.009811533338929625\n",
      "KF\n",
      "0.03179069697876159\n",
      "0.017015545786350512\n"
     ]
    }
   ],
   "source": [
    "print(\"Statistics: \")\n",
    "print(\"DM\")\n",
    "print(data['mittl_DM'].mean())\n",
    "print(data['mittl_DM'].std())\n",
    "print(\"KF\")\n",
    "print(data['mittl_KF'].mean())\n",
    "print(data['mittl_KF'].std())"
   ]
  },
  {
   "cell_type": "code",
   "execution_count": 8,
   "metadata": {
    "pycharm": {
     "is_executing": false
    }
   },
   "outputs": [],
   "source": [
    "# Create a new DataFrame without unnecessary features \n",
    "Data_n = data.drop(['xy_Verlauf','Schreiben bei Prog läuft NC-Programm'], axis = 1) "
   ]
  },
  {
   "cell_type": "markdown",
   "metadata": {},
   "source": [
    "We can easily perform Labeling using the pandas cut() function. We want to divide them into two bins of ($-\\infty$, threshold] and (threshold, $+\\infty$] and add labels such as “NOK” and “OK”. It is important to standardize our data first to have a mean of zero and a standard deviation of 1. \n",
    "<br><br>Since the KF value already have a mean of zero, there is no need to subtract it by the mean to get the mean to zero."
   ]
  },
  {
   "cell_type": "code",
   "execution_count": 9,
   "metadata": {
    "pycharm": {
     "is_executing": false
    }
   },
   "outputs": [],
   "source": [
    "# standardization on DM values\n",
    "\n",
    "Data_n['mittl_DM'] = abs(Data_n['mittl_DM']-6.7) \n",
    "\n",
    "# create a threshold \n",
    "bins_DM = [-np.inf,  Data_n['mittl_DM'].quantile(.95), np. inf]\n",
    "bins_KF = [-np.inf,  Data_n['mittl_KF'].quantile(.98), np. inf] \n",
    "\n",
    "\n",
    "# create an additional collumn KF_cat and DM_cat to store the newly created labels\n",
    "DM_cat = pd.cut(Data_n['mittl_DM'], bins = bins_DM, labels = [ 1, 0 ]) \n",
    "KF_cat = pd.cut(Data_n['mittl_KF'], bins = bins_KF, labels = [ 1, 0 ])   "
   ]
  },
  {
   "cell_type": "markdown",
   "metadata": {},
   "source": [
    "Next, add the two newly created collumn to the DataFrame"
   ]
  },
  {
   "cell_type": "code",
   "execution_count": 10,
   "metadata": {
    "pycharm": {
     "is_executing": false
    }
   },
   "outputs": [],
   "source": [
    "t = Data_n.join(DM_cat, rsuffix = '_cat') \n",
    "\n",
    "t = t.join(KF_cat, rsuffix = '_cat') \n",
    "  \n",
    "t.dropna(inplace = True) "
   ]
  },
  {
   "cell_type": "markdown",
   "metadata": {},
   "source": [
    "Now, we can give the label to an data entry (row) based on the value of the DM and KF label."
   ]
  },
  {
   "cell_type": "code",
   "execution_count": 11,
   "metadata": {
    "pycharm": {
     "is_executing": false
    }
   },
   "outputs": [],
   "source": [
    "t['label'] =  np.where((t['mittl_DM_cat'] == 1) & (t['mittl_KF_cat'] == 1) , 'OK', 'NOK') \n",
    "\n",
    "m = t.pivot_table(index=['label'], aggfunc='size') "
   ]
  },
  {
   "cell_type": "markdown",
   "metadata": {},
   "source": [
    "Now, let's have a look again in the changes we have made with our dataset"
   ]
  },
  {
   "cell_type": "code",
   "execution_count": 12,
   "metadata": {
    "pycharm": {
     "is_executing": false
    },
    "scrolled": true
   },
   "outputs": [
    {
     "name": "stdout",
     "output_type": "stream",
     "text": [
      "<class 'pandas.core.frame.DataFrame'>\n",
      "DatetimeIndex: 384 entries, 2018-05-08 13:51:10.026000 to 2018-05-08 14:40:19.616000\n",
      "Data columns (total 18 columns):\n",
      " #   Column                    Non-Null Count  Dtype   \n",
      "---  ------                    --------------  -----   \n",
      " 0   Antriebsmoment x-Achse    384 non-null    float64 \n",
      " 1   Antriebsmoment y-Achse    384 non-null    float64 \n",
      " 2   Antriebsmoment Spindel    384 non-null    float64 \n",
      " 3   aktuelle Spindeldrehzahl  384 non-null    float64 \n",
      " 4   Strom x-Achse             384 non-null    float64 \n",
      " 5   Strom y-Achse             384 non-null    float64 \n",
      " 6   Strom z-Achse             384 non-null    float64 \n",
      " 7   Strom Spindel             384 non-null    float64 \n",
      " 8   Achsposition x-Achse      384 non-null    float64 \n",
      " 9   Achsposition y-Achse      384 non-null    float64 \n",
      " 10  Achsposition z-Achse      384 non-null    float64 \n",
      " 11  Bohrung                   384 non-null    float64 \n",
      " 12  Kraft                     384 non-null    float64 \n",
      " 13  mittl_DM                  384 non-null    float64 \n",
      " 14  mittl_KF                  384 non-null    float64 \n",
      " 15  mittl_DM_cat              384 non-null    category\n",
      " 16  mittl_KF_cat              384 non-null    category\n",
      " 17  label                     384 non-null    object  \n",
      "dtypes: category(2), float64(15), object(1)\n",
      "memory usage: 51.9+ KB\n"
     ]
    }
   ],
   "source": [
    "t.info()"
   ]
  },
  {
   "cell_type": "code",
   "execution_count": 13,
   "metadata": {
    "pycharm": {
     "is_executing": false
    },
    "scrolled": true
   },
   "outputs": [
    {
     "data": {
      "text/html": [
       "<div>\n",
       "<style scoped>\n",
       "    .dataframe tbody tr th:only-of-type {\n",
       "        vertical-align: middle;\n",
       "    }\n",
       "\n",
       "    .dataframe tbody tr th {\n",
       "        vertical-align: top;\n",
       "    }\n",
       "\n",
       "    .dataframe thead th {\n",
       "        text-align: right;\n",
       "    }\n",
       "</style>\n",
       "<table border=\"1\" class=\"dataframe\">\n",
       "  <thead>\n",
       "    <tr style=\"text-align: right;\">\n",
       "      <th></th>\n",
       "      <th>Antriebsmoment x-Achse</th>\n",
       "      <th>Antriebsmoment y-Achse</th>\n",
       "      <th>Antriebsmoment Spindel</th>\n",
       "      <th>aktuelle Spindeldrehzahl</th>\n",
       "      <th>Strom x-Achse</th>\n",
       "      <th>Strom y-Achse</th>\n",
       "      <th>Strom z-Achse</th>\n",
       "      <th>Strom Spindel</th>\n",
       "      <th>Achsposition x-Achse</th>\n",
       "      <th>Achsposition y-Achse</th>\n",
       "      <th>Achsposition z-Achse</th>\n",
       "      <th>Bohrung</th>\n",
       "      <th>Kraft</th>\n",
       "      <th>mittl_DM</th>\n",
       "      <th>mittl_KF</th>\n",
       "      <th>mittl_DM_cat</th>\n",
       "      <th>mittl_KF_cat</th>\n",
       "      <th>label</th>\n",
       "    </tr>\n",
       "    <tr>\n",
       "      <th>index</th>\n",
       "      <th></th>\n",
       "      <th></th>\n",
       "      <th></th>\n",
       "      <th></th>\n",
       "      <th></th>\n",
       "      <th></th>\n",
       "      <th></th>\n",
       "      <th></th>\n",
       "      <th></th>\n",
       "      <th></th>\n",
       "      <th></th>\n",
       "      <th></th>\n",
       "      <th></th>\n",
       "      <th></th>\n",
       "      <th></th>\n",
       "      <th></th>\n",
       "      <th></th>\n",
       "      <th></th>\n",
       "    </tr>\n",
       "  </thead>\n",
       "  <tbody>\n",
       "    <tr>\n",
       "      <th>2018-05-08 13:51:10.026</th>\n",
       "      <td>0.516</td>\n",
       "      <td>0.838</td>\n",
       "      <td>-1.648</td>\n",
       "      <td>7488.727570</td>\n",
       "      <td>0.24472</td>\n",
       "      <td>0.392090</td>\n",
       "      <td>-5.184448</td>\n",
       "      <td>-2.152344</td>\n",
       "      <td>235.953</td>\n",
       "      <td>471.40035</td>\n",
       "      <td>149.73803</td>\n",
       "      <td>946.0</td>\n",
       "      <td>1616.0</td>\n",
       "      <td>0.0558</td>\n",
       "      <td>0.0284</td>\n",
       "      <td>0</td>\n",
       "      <td>1</td>\n",
       "      <td>NOK</td>\n",
       "    </tr>\n",
       "    <tr>\n",
       "      <th>2018-05-08 13:51:10.041</th>\n",
       "      <td>0.516</td>\n",
       "      <td>0.815</td>\n",
       "      <td>-1.636</td>\n",
       "      <td>7488.842010</td>\n",
       "      <td>0.24472</td>\n",
       "      <td>0.392090</td>\n",
       "      <td>-5.214661</td>\n",
       "      <td>-2.124023</td>\n",
       "      <td>235.953</td>\n",
       "      <td>471.40035</td>\n",
       "      <td>149.27865</td>\n",
       "      <td>946.0</td>\n",
       "      <td>1616.0</td>\n",
       "      <td>0.0558</td>\n",
       "      <td>0.0284</td>\n",
       "      <td>0</td>\n",
       "      <td>1</td>\n",
       "      <td>NOK</td>\n",
       "    </tr>\n",
       "    <tr>\n",
       "      <th>2018-05-08 13:51:10.057</th>\n",
       "      <td>0.516</td>\n",
       "      <td>0.815</td>\n",
       "      <td>-1.623</td>\n",
       "      <td>7489.414215</td>\n",
       "      <td>0.24472</td>\n",
       "      <td>0.408203</td>\n",
       "      <td>-5.320404</td>\n",
       "      <td>-2.124023</td>\n",
       "      <td>235.953</td>\n",
       "      <td>471.40035</td>\n",
       "      <td>148.81926</td>\n",
       "      <td>946.0</td>\n",
       "      <td>1616.0</td>\n",
       "      <td>0.0558</td>\n",
       "      <td>0.0284</td>\n",
       "      <td>0</td>\n",
       "      <td>1</td>\n",
       "      <td>NOK</td>\n",
       "    </tr>\n",
       "    <tr>\n",
       "      <th>2018-05-08 13:51:10.072</th>\n",
       "      <td>0.516</td>\n",
       "      <td>0.838</td>\n",
       "      <td>-1.474</td>\n",
       "      <td>7491.245270</td>\n",
       "      <td>0.24472</td>\n",
       "      <td>0.397461</td>\n",
       "      <td>-5.287170</td>\n",
       "      <td>-1.989502</td>\n",
       "      <td>235.953</td>\n",
       "      <td>471.40035</td>\n",
       "      <td>148.47472</td>\n",
       "      <td>946.0</td>\n",
       "      <td>1616.0</td>\n",
       "      <td>0.0558</td>\n",
       "      <td>0.0284</td>\n",
       "      <td>0</td>\n",
       "      <td>1</td>\n",
       "      <td>NOK</td>\n",
       "    </tr>\n",
       "    <tr>\n",
       "      <th>2018-05-08 13:51:10.088</th>\n",
       "      <td>0.516</td>\n",
       "      <td>0.849</td>\n",
       "      <td>-1.437</td>\n",
       "      <td>7491.073608</td>\n",
       "      <td>0.24472</td>\n",
       "      <td>0.402832</td>\n",
       "      <td>-5.320404</td>\n",
       "      <td>-1.954102</td>\n",
       "      <td>235.953</td>\n",
       "      <td>471.40035</td>\n",
       "      <td>148.01533</td>\n",
       "      <td>946.0</td>\n",
       "      <td>1616.0</td>\n",
       "      <td>0.0558</td>\n",
       "      <td>0.0284</td>\n",
       "      <td>0</td>\n",
       "      <td>1</td>\n",
       "      <td>NOK</td>\n",
       "    </tr>\n",
       "  </tbody>\n",
       "</table>\n",
       "</div>"
      ],
      "text/plain": [
       "                         Antriebsmoment x-Achse  Antriebsmoment y-Achse  \\\n",
       "index                                                                     \n",
       "2018-05-08 13:51:10.026                   0.516                   0.838   \n",
       "2018-05-08 13:51:10.041                   0.516                   0.815   \n",
       "2018-05-08 13:51:10.057                   0.516                   0.815   \n",
       "2018-05-08 13:51:10.072                   0.516                   0.838   \n",
       "2018-05-08 13:51:10.088                   0.516                   0.849   \n",
       "\n",
       "                         Antriebsmoment Spindel  aktuelle Spindeldrehzahl  \\\n",
       "index                                                                       \n",
       "2018-05-08 13:51:10.026                  -1.648               7488.727570   \n",
       "2018-05-08 13:51:10.041                  -1.636               7488.842010   \n",
       "2018-05-08 13:51:10.057                  -1.623               7489.414215   \n",
       "2018-05-08 13:51:10.072                  -1.474               7491.245270   \n",
       "2018-05-08 13:51:10.088                  -1.437               7491.073608   \n",
       "\n",
       "                         Strom x-Achse  Strom y-Achse  Strom z-Achse  \\\n",
       "index                                                                  \n",
       "2018-05-08 13:51:10.026        0.24472       0.392090      -5.184448   \n",
       "2018-05-08 13:51:10.041        0.24472       0.392090      -5.214661   \n",
       "2018-05-08 13:51:10.057        0.24472       0.408203      -5.320404   \n",
       "2018-05-08 13:51:10.072        0.24472       0.397461      -5.287170   \n",
       "2018-05-08 13:51:10.088        0.24472       0.402832      -5.320404   \n",
       "\n",
       "                         Strom Spindel  Achsposition x-Achse  \\\n",
       "index                                                          \n",
       "2018-05-08 13:51:10.026      -2.152344               235.953   \n",
       "2018-05-08 13:51:10.041      -2.124023               235.953   \n",
       "2018-05-08 13:51:10.057      -2.124023               235.953   \n",
       "2018-05-08 13:51:10.072      -1.989502               235.953   \n",
       "2018-05-08 13:51:10.088      -1.954102               235.953   \n",
       "\n",
       "                         Achsposition y-Achse  Achsposition z-Achse  Bohrung  \\\n",
       "index                                                                          \n",
       "2018-05-08 13:51:10.026             471.40035             149.73803    946.0   \n",
       "2018-05-08 13:51:10.041             471.40035             149.27865    946.0   \n",
       "2018-05-08 13:51:10.057             471.40035             148.81926    946.0   \n",
       "2018-05-08 13:51:10.072             471.40035             148.47472    946.0   \n",
       "2018-05-08 13:51:10.088             471.40035             148.01533    946.0   \n",
       "\n",
       "                          Kraft  mittl_DM  mittl_KF mittl_DM_cat mittl_KF_cat  \\\n",
       "index                                                                           \n",
       "2018-05-08 13:51:10.026  1616.0    0.0558    0.0284            0            1   \n",
       "2018-05-08 13:51:10.041  1616.0    0.0558    0.0284            0            1   \n",
       "2018-05-08 13:51:10.057  1616.0    0.0558    0.0284            0            1   \n",
       "2018-05-08 13:51:10.072  1616.0    0.0558    0.0284            0            1   \n",
       "2018-05-08 13:51:10.088  1616.0    0.0558    0.0284            0            1   \n",
       "\n",
       "                        label  \n",
       "index                          \n",
       "2018-05-08 13:51:10.026   NOK  \n",
       "2018-05-08 13:51:10.041   NOK  \n",
       "2018-05-08 13:51:10.057   NOK  \n",
       "2018-05-08 13:51:10.072   NOK  \n",
       "2018-05-08 13:51:10.088   NOK  "
      ]
     },
     "execution_count": 13,
     "metadata": {},
     "output_type": "execute_result"
    }
   ],
   "source": [
    "t.head()"
   ]
  },
  {
   "cell_type": "markdown",
   "metadata": {},
   "source": [
    "## Data visualization and exploration\n"
   ]
  },
  {
   "cell_type": "markdown",
   "metadata": {},
   "source": [
    "The plot will help us to have an overview of the trends of each features. We will be using the subplot function to plot each features on separate subplots to see them more clearly"
   ]
  },
  {
   "cell_type": "code",
   "execution_count": null,
   "metadata": {
    "pycharm": {
     "is_executing": true
    },
    "scrolled": true
   },
   "outputs": [],
   "source": [
    "# Define subplot settings\n",
    "t.plot(subplots=True, figsize=(15,20))"
   ]
  },
  {
   "cell_type": "code",
   "execution_count": null,
   "metadata": {
    "pycharm": {
     "is_executing": true
    }
   },
   "outputs": [],
   "source": [
    "sns.lineplot(data = t)"
   ]
  },
  {
   "cell_type": "markdown",
   "metadata": {},
   "source": [
    "## Model development\n"
   ]
  },
  {
   "cell_type": "markdown",
   "metadata": {},
   "source": [
    "In this step, we will apply random forest classifier to predict the state of our tool. \n",
    "<br> Random Forest is an ensemle of Decision Trees, generally trained via the bagging method  typicallly with max_samples set to the size of the training set. The algorithm involves in these following steps: \n",
    "1. Train/ test split:\n",
    "2. Model train\n",
    "\n",
    "### Train/ test split\n",
    "First, we separate the columns into dependent and independent variables ( features and labels). Then we split those variables into a training and test set."
   ]
  },
  {
   "cell_type": "code",
   "execution_count": null,
   "metadata": {
    "pycharm": {
     "is_executing": true
    }
   },
   "outputs": [],
   "source": [
    "print(t.iloc[:,:-1].shape)"
   ]
  },
  {
   "cell_type": "code",
   "execution_count": null,
   "metadata": {
    "pycharm": {
     "is_executing": true
    }
   },
   "outputs": [],
   "source": [
    "# Import train_test_split function\n",
    "from sklearn.model_selection import train_test_split\n",
    "\n",
    "# Split dataset into training set and test set \n",
    "# 70% training and 30% test\n",
    "X_train, X_test, y_train, y_test = train_test_split(t.iloc[:,:-1], t['label'], test_size=0.3) "
   ]
  },
  {
   "cell_type": "code",
   "execution_count": null,
   "metadata": {
    "pycharm": {
     "is_executing": true
    }
   },
   "outputs": [],
   "source": [
    "# We have now separate the label from the dataset\n",
    "print(t.iloc[:,:-1].shape)\n",
    "print(t.shape)"
   ]
  },
  {
   "cell_type": "markdown",
   "metadata": {},
   "source": [
    "After splitting, you will train the model on the training set and perform predictions on the test set."
   ]
  },
  {
   "cell_type": "code",
   "execution_count": null,
   "metadata": {
    "pycharm": {
     "is_executing": true
    }
   },
   "outputs": [],
   "source": [
    "from sklearn.ensemble import RandomForestClassifier\n",
    "\n",
    "# Create a Gausian Classifier\n",
    "classifier = RandomForestClassifier(n_estimators = 500, max_leaf_nodes=16)\n",
    "\n",
    "# Train the model using the training sets y_pred=clf.predict(X_test)\n",
    "classifier.fit(X_train,y_train)\n",
    "\n",
    "# Apply the trained model on test set \n",
    "y_pred = classifier.predict(X_test)"
   ]
  },
  {
   "cell_type": "markdown",
   "metadata": {},
   "source": [
    "After training, check the accuracy using actual and predicted values on the test set"
   ]
  },
  {
   "cell_type": "code",
   "execution_count": null,
   "metadata": {
    "pycharm": {
     "is_executing": true
    }
   },
   "outputs": [],
   "source": [
    "#Import scikit-learn metrics module for accuracy calculation\n",
    "from sklearn import metrics\n",
    "# Model Accuracy, how often is the classifier correct?\n",
    "print(\"Accuracy:\",metrics.accuracy_score(y_test, y_pred))\n"
   ]
  },
  {
   "cell_type": "code",
   "execution_count": null,
   "metadata": {
    "pycharm": {
     "is_executing": true
    }
   },
   "outputs": [],
   "source": [
    "from pyts.classification import time_series_forest\n",
    "\n",
    "clf = time_series_forest.TimeSeriesForest()\n",
    "clf.fit(X_train, y_train)\n",
    "accuracy = clf.score(X_test, y_test)\n",
    "print(\"%.2f\" % accuracy)"
   ]
  },
  {
   "cell_type": "markdown",
   "metadata": {},
   "source": [
    "## Evaluation and cross validation"
   ]
  },
  {
   "cell_type": "markdown",
   "metadata": {},
   "source": [
    "Cross validation"
   ]
  },
  {
   "cell_type": "code",
   "execution_count": null,
   "metadata": {
    "pycharm": {
     "is_executing": true
    }
   },
   "outputs": [],
   "source": [
    "from sklearn.model_selection import cross_val_score\n",
    "# from sklearn.model_selection import TimeSeriesSplit\n",
    "\n",
    "#scores = cross_val_score(clf, X_train, y_train, cv=10, scoring = )"
   ]
  },
  {
   "cell_type": "markdown",
   "metadata": {},
   "source": [
    "## Reference\n",
    "[Re8c30ea33529-1]\tH. Deng, G. Runger, E. Tuv and M. Vladimir, “A Time Series Forest for Classification and Feature Extraction”. Information Sciences, 239, 142-153 (2013)."
   ]
  }
 ],
 "metadata": {
  "kernelspec": {
   "display_name": "Python 3",
   "language": "python",
   "name": "python3"
  },
  "language_info": {
   "codemirror_mode": {
    "name": "ipython",
    "version": 3
   },
   "file_extension": ".py",
   "mimetype": "text/x-python",
   "name": "python",
   "nbconvert_exporter": "python",
   "pygments_lexer": "ipython3",
   "version": "3.6.7"
  },
  "pycharm": {
   "stem_cell": {
    "cell_type": "raw",
    "metadata": {
     "collapsed": false
    },
    "source": []
   }
  },
  "toc": {
   "base_numbering": 1,
   "nav_menu": {},
   "number_sections": true,
   "sideBar": true,
   "skip_h1_title": false,
   "title_cell": "Table of Contents",
   "title_sidebar": "Contents",
   "toc_cell": false,
   "toc_position": {},
   "toc_section_display": true,
   "toc_window_display": false
  },
  "varInspector": {
   "cols": {
    "lenName": 16,
    "lenType": 16,
    "lenVar": 40
   },
   "kernels_config": {
    "python": {
     "delete_cmd_postfix": "",
     "delete_cmd_prefix": "del ",
     "library": "var_list.py",
     "varRefreshCmd": "print(var_dic_list())"
    },
    "r": {
     "delete_cmd_postfix": ") ",
     "delete_cmd_prefix": "rm(",
     "library": "var_list.r",
     "varRefreshCmd": "cat(var_dic_list()) "
    }
   },
   "types_to_exclude": [
    "module",
    "function",
    "builtin_function_or_method",
    "instance",
    "_Feature"
   ],
   "window_display": false
  }
 },
 "nbformat": 4,
 "nbformat_minor": 1
}
